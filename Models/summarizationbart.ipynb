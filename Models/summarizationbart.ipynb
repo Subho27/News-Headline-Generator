{
 "cells": [
  {
   "cell_type": "code",
   "execution_count": 1,
   "metadata": {
    "_cell_guid": "b1076dfc-b9ad-4769-8c92-a6c4dae69d19",
    "_uuid": "8f2839f25d086af736a60e9eeb907d3b93b6e0e5",
    "execution": {
     "iopub.execute_input": "2024-04-21T17:52:19.816820Z",
     "iopub.status.busy": "2024-04-21T17:52:19.816485Z",
     "iopub.status.idle": "2024-04-21T17:52:21.004230Z",
     "shell.execute_reply": "2024-04-21T17:52:21.003318Z",
     "shell.execute_reply.started": "2024-04-21T17:52:19.816793Z"
    }
   },
   "outputs": [
    {
     "name": "stdout",
     "output_type": "stream",
     "text": [
      "/kaggle/input/news2-0/news_2.0.csv\n",
      "/kaggle/input/till-2000/summarized_news.csv\n",
      "/kaggle/input/news-till-1000/summarized_news.csv\n"
     ]
    }
   ],
   "source": [
    "# This Python 3 environment comes with many helpful analytics libraries installed\n",
    "# It is defined by the kaggle/python Docker image: https://github.com/kaggle/docker-python\n",
    "# For example, here's several helpful packages to load\n",
    "\n",
    "import numpy as np # linear algebra\n",
    "import pandas as pd # data processing, CSV file I/O (e.g. pd.read_csv)\n",
    "\n",
    "# Input data files are available in the read-only \"../input/\" directory\n",
    "# For example, running this (by clicking run or pressing Shift+Enter) will list all files under the input directory\n",
    "\n",
    "import os\n",
    "for dirname, _, filenames in os.walk('/kaggle/input'):\n",
    "    for filename in filenames:\n",
    "        print(os.path.join(dirname, filename))\n",
    "\n",
    "# You can write up to 20GB to the current directory (/kaggle/working/) that gets preserved as output when you create a version using \"Save & Run All\" \n",
    "# You can also write temporary files to /kaggle/temp/, but they won't be saved outside of the current session"
   ]
  },
  {
   "cell_type": "markdown",
   "metadata": {},
   "source": [
    "### Importing Libraries"
   ]
  },
  {
   "cell_type": "code",
   "execution_count": 2,
   "metadata": {
    "execution": {
     "iopub.execute_input": "2024-04-21T17:52:21.006242Z",
     "iopub.status.busy": "2024-04-21T17:52:21.005839Z",
     "iopub.status.idle": "2024-04-21T17:52:43.184265Z",
     "shell.execute_reply": "2024-04-21T17:52:43.183270Z",
     "shell.execute_reply.started": "2024-04-21T17:52:21.006216Z"
    }
   },
   "outputs": [
    {
     "name": "stderr",
     "output_type": "stream",
     "text": [
      "2024-04-21 17:52:29.468474: E external/local_xla/xla/stream_executor/cuda/cuda_dnn.cc:9261] Unable to register cuDNN factory: Attempting to register factory for plugin cuDNN when one has already been registered\n",
      "2024-04-21 17:52:29.468597: E external/local_xla/xla/stream_executor/cuda/cuda_fft.cc:607] Unable to register cuFFT factory: Attempting to register factory for plugin cuFFT when one has already been registered\n",
      "2024-04-21 17:52:29.634720: E external/local_xla/xla/stream_executor/cuda/cuda_blas.cc:1515] Unable to register cuBLAS factory: Attempting to register factory for plugin cuBLAS when one has already been registered\n"
     ]
    }
   ],
   "source": [
    "from transformers import pipeline\n",
    "\n",
    "import matplotlib.pyplot as plt\n",
    "from transformers import AutoModelForSeq2SeqLM, AutoTokenizer\n",
    "\n",
    "from tqdm import tqdm\n",
    "import torch\n",
    "from torch.utils.data import Dataset, DataLoader\n",
    "from transformers import AutoTokenizer, AutoModelWithLMHead\n",
    "import torch.optim as optim\n",
    "\n",
    "import warnings\n",
    "warnings.filterwarnings('ignore')"
   ]
  },
  {
   "cell_type": "markdown",
   "metadata": {},
   "source": [
    "### Importing Dataset"
   ]
  },
  {
   "cell_type": "code",
   "execution_count": 3,
   "metadata": {
    "execution": {
     "iopub.execute_input": "2024-04-21T17:52:43.187074Z",
     "iopub.status.busy": "2024-04-21T17:52:43.186490Z",
     "iopub.status.idle": "2024-04-21T17:52:48.090267Z",
     "shell.execute_reply": "2024-04-21T17:52:48.089475Z",
     "shell.execute_reply.started": "2024-04-21T17:52:43.187047Z"
    }
   },
   "outputs": [],
   "source": [
    "df = pd.read_csv('/kaggle/input/news2-0/news_2.0.csv')"
   ]
  },
  {
   "cell_type": "code",
   "execution_count": 4,
   "metadata": {
    "execution": {
     "iopub.execute_input": "2024-04-21T17:52:48.091751Z",
     "iopub.status.busy": "2024-04-21T17:52:48.091448Z",
     "iopub.status.idle": "2024-04-21T17:52:48.131828Z",
     "shell.execute_reply": "2024-04-21T17:52:48.130906Z",
     "shell.execute_reply.started": "2024-04-21T17:52:48.091726Z"
    }
   },
   "outputs": [
    {
     "name": "stdout",
     "output_type": "stream",
     "text": [
      "<class 'pandas.core.frame.DataFrame'>\n",
      "RangeIndex: 50000 entries, 0 to 49999\n",
      "Data columns (total 3 columns):\n",
      " #   Column      Non-Null Count  Dtype \n",
      "---  ------      --------------  ----- \n",
      " 0   Unnamed: 0  50000 non-null  int64 \n",
      " 1   title       50000 non-null  object\n",
      " 2   article     50000 non-null  object\n",
      "dtypes: int64(1), object(2)\n",
      "memory usage: 1.1+ MB\n"
     ]
    }
   ],
   "source": [
    "df.info()"
   ]
  },
  {
   "cell_type": "markdown",
   "metadata": {},
   "source": [
    "### Importing Model for Summarization(BART)"
   ]
  },
  {
   "cell_type": "code",
   "execution_count": 5,
   "metadata": {
    "execution": {
     "iopub.execute_input": "2024-04-21T17:52:48.134204Z",
     "iopub.status.busy": "2024-04-21T17:52:48.133848Z",
     "iopub.status.idle": "2024-04-21T17:52:59.052686Z",
     "shell.execute_reply": "2024-04-21T17:52:59.051482Z",
     "shell.execute_reply.started": "2024-04-21T17:52:48.134178Z"
    }
   },
   "outputs": [
    {
     "data": {
      "application/vnd.jupyter.widget-view+json": {
       "model_id": "879c53ab2807469caa22581f13c2e2d8",
       "version_major": 2,
       "version_minor": 0
      },
      "text/plain": [
       "config.json:   0%|          | 0.00/1.58k [00:00<?, ?B/s]"
      ]
     },
     "metadata": {},
     "output_type": "display_data"
    },
    {
     "data": {
      "application/vnd.jupyter.widget-view+json": {
       "model_id": "4f14b7045c9f4c44ab92da7a2ef67fd9",
       "version_major": 2,
       "version_minor": 0
      },
      "text/plain": [
       "vocab.json:   0%|          | 0.00/899k [00:00<?, ?B/s]"
      ]
     },
     "metadata": {},
     "output_type": "display_data"
    },
    {
     "data": {
      "application/vnd.jupyter.widget-view+json": {
       "model_id": "fbc686adebff4ec29fd674b0124f731a",
       "version_major": 2,
       "version_minor": 0
      },
      "text/plain": [
       "merges.txt:   0%|          | 0.00/456k [00:00<?, ?B/s]"
      ]
     },
     "metadata": {},
     "output_type": "display_data"
    },
    {
     "data": {
      "application/vnd.jupyter.widget-view+json": {
       "model_id": "e73fa122918046fba2200c0e5dadce03",
       "version_major": 2,
       "version_minor": 0
      },
      "text/plain": [
       "tokenizer.json:   0%|          | 0.00/1.36M [00:00<?, ?B/s]"
      ]
     },
     "metadata": {},
     "output_type": "display_data"
    },
    {
     "data": {
      "application/vnd.jupyter.widget-view+json": {
       "model_id": "da8922455e194cacb774a2f35d0f1dcd",
       "version_major": 2,
       "version_minor": 0
      },
      "text/plain": [
       "model.safetensors:   0%|          | 0.00/1.63G [00:00<?, ?B/s]"
      ]
     },
     "metadata": {},
     "output_type": "display_data"
    },
    {
     "data": {
      "application/vnd.jupyter.widget-view+json": {
       "model_id": "1567ae5b5e87451abd8f58e15cd3a803",
       "version_major": 2,
       "version_minor": 0
      },
      "text/plain": [
       "generation_config.json:   0%|          | 0.00/363 [00:00<?, ?B/s]"
      ]
     },
     "metadata": {},
     "output_type": "display_data"
    }
   ],
   "source": [
    "from transformers import AutoModelForSeq2SeqLM, AutoTokenizer\n",
    "model_ckpt = \"facebook/bart-large-cnn\"\n",
    "\n",
    "tokenizer = AutoTokenizer.from_pretrained(model_ckpt)\n",
    "device = \"cuda\" if torch.cuda.is_available() else \"cpu\"\n",
    "pipe = pipeline('summarization', model=model_ckpt, device = device)"
   ]
  },
  {
   "cell_type": "markdown",
   "metadata": {},
   "source": [
    "### 10000 Samples"
   ]
  },
  {
   "cell_type": "code",
   "execution_count": 6,
   "metadata": {
    "execution": {
     "iopub.execute_input": "2024-04-21T17:52:59.054413Z",
     "iopub.status.busy": "2024-04-21T17:52:59.054067Z",
     "iopub.status.idle": "2024-04-21T17:52:59.069554Z",
     "shell.execute_reply": "2024-04-21T17:52:59.068483Z",
     "shell.execute_reply.started": "2024-04-21T17:52:59.054386Z"
    }
   },
   "outputs": [],
   "source": [
    "temp_df = df.iloc[20000:30000]\n",
    "temp_df.reset_index(drop=True, inplace=True)"
   ]
  },
  {
   "cell_type": "markdown",
   "metadata": {},
   "source": [
    "### Summarization Function"
   ]
  },
  {
   "cell_type": "code",
   "execution_count": 8,
   "metadata": {
    "execution": {
     "iopub.execute_input": "2024-04-21T17:53:29.225622Z",
     "iopub.status.busy": "2024-04-21T17:53:29.225237Z",
     "iopub.status.idle": "2024-04-21T17:53:29.235622Z",
     "shell.execute_reply": "2024-04-21T17:53:29.234656Z",
     "shell.execute_reply.started": "2024-04-21T17:53:29.225594Z"
    }
   },
   "outputs": [],
   "source": [
    "import torch\n",
    "from transformers import pipeline\n",
    "\n",
    "# Example function to generate segments of text within the maximum sequence length\n",
    "def generate_segments(input_text):\n",
    "    words = input_text.split()\n",
    "    for i in range(0, len(words), 300):  # Adjust the segment length here\n",
    "        yield ' '.join(words[i:i+300])   # Adjust the segment length here\n",
    "\n",
    "def summarization(input_text):\n",
    "    global count\n",
    "    if(len(tokenizer.tokenize(input_text))<=1020):\n",
    "        count += 1\n",
    "        print(count, end=\" \")\n",
    "        return input_text\n",
    "\n",
    "    output_summary = \"\"\n",
    "    for segment in generate_segments(input_text):\n",
    "        try:\n",
    "            max_length = len(segment.split()) # Adjust max_length dynamically\n",
    "            summarized_segment = pipe(segment, max_length=max_length, min_length=1, do_sample=False)[0]['summary_text']\n",
    "            output_summary += summarized_segment\n",
    "            \n",
    "        except IndexError:\n",
    "            pass\n",
    "        except Exception as e:\n",
    "            print(f\"Error occurred: {e}\")\n",
    "    if len(output_summary.split()) >= 1020:\n",
    "            output_summary = summarization(output_summary)\n",
    "    count += 1\n",
    "    print(count, end=\" \")\n",
    "    return output_summary\n",
    "count = 0"
   ]
  },
  {
   "cell_type": "code",
   "execution_count": null,
   "metadata": {},
   "outputs": [],
   "source": [
    "final_list = []\n",
    "final_list.append(temp_df['article'].apply(summarization))"
   ]
  },
  {
   "cell_type": "code",
   "execution_count": 12,
   "metadata": {
    "execution": {
     "iopub.execute_input": "2024-04-21T21:06:49.230603Z",
     "iopub.status.busy": "2024-04-21T21:06:49.229694Z",
     "iopub.status.idle": "2024-04-21T21:06:49.236625Z",
     "shell.execute_reply": "2024-04-21T21:06:49.235610Z",
     "shell.execute_reply.started": "2024-04-21T21:06:49.230568Z"
    }
   },
   "outputs": [],
   "source": [
    "temp_df['summary'] = final_list[0]"
   ]
  },
  {
   "cell_type": "markdown",
   "metadata": {},
   "source": [
    "### Summarization Result"
   ]
  },
  {
   "cell_type": "code",
   "execution_count": 13,
   "metadata": {
    "execution": {
     "iopub.execute_input": "2024-04-21T21:06:56.768890Z",
     "iopub.status.busy": "2024-04-21T21:06:56.768519Z",
     "iopub.status.idle": "2024-04-21T21:06:56.788960Z",
     "shell.execute_reply": "2024-04-21T21:06:56.788031Z",
     "shell.execute_reply.started": "2024-04-21T21:06:56.768853Z"
    }
   },
   "outputs": [
    {
     "data": {
      "text/html": [
       "<div>\n",
       "<style scoped>\n",
       "    .dataframe tbody tr th:only-of-type {\n",
       "        vertical-align: middle;\n",
       "    }\n",
       "\n",
       "    .dataframe tbody tr th {\n",
       "        vertical-align: top;\n",
       "    }\n",
       "\n",
       "    .dataframe thead th {\n",
       "        text-align: right;\n",
       "    }\n",
       "</style>\n",
       "<table border=\"1\" class=\"dataframe\">\n",
       "  <thead>\n",
       "    <tr style=\"text-align: right;\">\n",
       "      <th></th>\n",
       "      <th>title</th>\n",
       "      <th>article</th>\n",
       "      <th>summary</th>\n",
       "    </tr>\n",
       "  </thead>\n",
       "  <tbody>\n",
       "    <tr>\n",
       "      <th>0</th>\n",
       "      <td>You Need to Care About Facebook Censoring an I...</td>\n",
       "      <td>Nick Ut's Pulitzer Prize-winning photograph of...</td>\n",
       "      <td>Nick Ut's Pulitzer Prize-winning photograph of...</td>\n",
       "    </tr>\n",
       "    <tr>\n",
       "      <th>1</th>\n",
       "      <td>Explainer: Counting the cost of the U.S.-China...</td>\n",
       "      <td>HONG KONG (Reuters) - U.S. President Donald Tr...</td>\n",
       "      <td>U.S. President Donald Trump's fresh threats of...</td>\n",
       "    </tr>\n",
       "    <tr>\n",
       "      <th>2</th>\n",
       "      <td>'Breaking Bad' Star Lavell Crawford Dropped 12...</td>\n",
       "      <td>Comedian and actor Lavell Crawford's not quite...</td>\n",
       "      <td>Comedian and actor Lavell Crawford's not quite...</td>\n",
       "    </tr>\n",
       "    <tr>\n",
       "      <th>3</th>\n",
       "      <td>Daily Horoscope: November 09, 2016</td>\n",
       "      <td>Mars enters Aquarius today at 12:52 AM! Mars i...</td>\n",
       "      <td>Mars enters Aquarius today at 12:52 AM! Mars i...</td>\n",
       "    </tr>\n",
       "    <tr>\n",
       "      <th>4</th>\n",
       "      <td>UK's May tries to calm Brexit rebels, says dea...</td>\n",
       "      <td>LONDON (Reuters) - Prime Minister Theresa May ...</td>\n",
       "      <td>LONDON (Reuters) - Prime Minister Theresa May ...</td>\n",
       "    </tr>\n",
       "    <tr>\n",
       "      <th>...</th>\n",
       "      <td>...</td>\n",
       "      <td>...</td>\n",
       "      <td>...</td>\n",
       "    </tr>\n",
       "    <tr>\n",
       "      <th>9994</th>\n",
       "      <td>Correspondent Takeover: Let's talk about Penns...</td>\n",
       "      <td>Hey, VICE News fans, it’s me, Evan McMorris-Sa...</td>\n",
       "      <td>Hey, VICE News fans, it’s me, Evan McMorris-Sa...</td>\n",
       "    </tr>\n",
       "    <tr>\n",
       "      <th>9995</th>\n",
       "      <td>The best TV episodes of 2015: from Walking Dea...</td>\n",
       "      <td>Even in our era of streaming television and bi...</td>\n",
       "      <td>There's still something wonderful about a sing...</td>\n",
       "    </tr>\n",
       "    <tr>\n",
       "      <th>9996</th>\n",
       "      <td>Toxic algae is killing thousands of fish in Fl...</td>\n",
       "      <td>Captain Billy Norris recently had to institute...</td>\n",
       "      <td>Since early July, thousands of dead fish have ...</td>\n",
       "    </tr>\n",
       "    <tr>\n",
       "      <th>9997</th>\n",
       "      <td>Saying Donald Trump is totally unlike mainstre...</td>\n",
       "      <td>Donald Trump is weird. So weird, in fact, that...</td>\n",
       "      <td>Julian Zelizer: Donald Trump is a deeply unusu...</td>\n",
       "    </tr>\n",
       "    <tr>\n",
       "      <th>9998</th>\n",
       "      <td>How Colombia's Largest Coke Bust Will Affect S...</td>\n",
       "      <td>This article originally appeared on VICE UK.On...</td>\n",
       "      <td>Colombian police say they have seized 12 tons ...</td>\n",
       "    </tr>\n",
       "  </tbody>\n",
       "</table>\n",
       "<p>9999 rows × 3 columns</p>\n",
       "</div>"
      ],
      "text/plain": [
       "                                                  title  \\\n",
       "0     You Need to Care About Facebook Censoring an I...   \n",
       "1     Explainer: Counting the cost of the U.S.-China...   \n",
       "2     'Breaking Bad' Star Lavell Crawford Dropped 12...   \n",
       "3                    Daily Horoscope: November 09, 2016   \n",
       "4     UK's May tries to calm Brexit rebels, says dea...   \n",
       "...                                                 ...   \n",
       "9994  Correspondent Takeover: Let's talk about Penns...   \n",
       "9995  The best TV episodes of 2015: from Walking Dea...   \n",
       "9996  Toxic algae is killing thousands of fish in Fl...   \n",
       "9997  Saying Donald Trump is totally unlike mainstre...   \n",
       "9998  How Colombia's Largest Coke Bust Will Affect S...   \n",
       "\n",
       "                                                article  \\\n",
       "0     Nick Ut's Pulitzer Prize-winning photograph of...   \n",
       "1     HONG KONG (Reuters) - U.S. President Donald Tr...   \n",
       "2     Comedian and actor Lavell Crawford's not quite...   \n",
       "3     Mars enters Aquarius today at 12:52 AM! Mars i...   \n",
       "4     LONDON (Reuters) - Prime Minister Theresa May ...   \n",
       "...                                                 ...   \n",
       "9994  Hey, VICE News fans, it’s me, Evan McMorris-Sa...   \n",
       "9995  Even in our era of streaming television and bi...   \n",
       "9996  Captain Billy Norris recently had to institute...   \n",
       "9997  Donald Trump is weird. So weird, in fact, that...   \n",
       "9998  This article originally appeared on VICE UK.On...   \n",
       "\n",
       "                                                summary  \n",
       "0     Nick Ut's Pulitzer Prize-winning photograph of...  \n",
       "1     U.S. President Donald Trump's fresh threats of...  \n",
       "2     Comedian and actor Lavell Crawford's not quite...  \n",
       "3     Mars enters Aquarius today at 12:52 AM! Mars i...  \n",
       "4     LONDON (Reuters) - Prime Minister Theresa May ...  \n",
       "...                                                 ...  \n",
       "9994  Hey, VICE News fans, it’s me, Evan McMorris-Sa...  \n",
       "9995  There's still something wonderful about a sing...  \n",
       "9996  Since early July, thousands of dead fish have ...  \n",
       "9997  Julian Zelizer: Donald Trump is a deeply unusu...  \n",
       "9998  Colombian police say they have seized 12 tons ...  \n",
       "\n",
       "[9999 rows x 3 columns]"
      ]
     },
     "execution_count": 13,
     "metadata": {},
     "output_type": "execute_result"
    }
   ],
   "source": [
    "temp_df"
   ]
  },
  {
   "cell_type": "markdown",
   "metadata": {},
   "source": [
    "### Saving Dataset"
   ]
  },
  {
   "cell_type": "code",
   "execution_count": 14,
   "metadata": {
    "execution": {
     "iopub.execute_input": "2024-04-21T21:07:10.325709Z",
     "iopub.status.busy": "2024-04-21T21:07:10.324875Z",
     "iopub.status.idle": "2024-04-21T21:07:12.914795Z",
     "shell.execute_reply": "2024-04-21T21:07:12.913972Z",
     "shell.execute_reply.started": "2024-04-21T21:07:10.325675Z"
    }
   },
   "outputs": [],
   "source": [
    "temp_df.to_csv(\"till_30000.csv\")"
   ]
  }
 ],
 "metadata": {
  "kaggle": {
   "accelerator": "nvidiaTeslaT4",
   "dataSources": [
    {
     "datasetId": 4737448,
     "sourceId": 8036272,
     "sourceType": "datasetVersion"
    },
    {
     "datasetId": 4766112,
     "sourceId": 8076125,
     "sourceType": "datasetVersion"
    },
    {
     "datasetId": 4766361,
     "sourceId": 8076461,
     "sourceType": "datasetVersion"
    }
   ],
   "dockerImageVersionId": 30674,
   "isGpuEnabled": true,
   "isInternetEnabled": true,
   "language": "python",
   "sourceType": "notebook"
  },
  "kernelspec": {
   "display_name": "Python 3 (ipykernel)",
   "language": "python",
   "name": "python3"
  },
  "language_info": {
   "codemirror_mode": {
    "name": "ipython",
    "version": 3
   },
   "file_extension": ".py",
   "mimetype": "text/x-python",
   "name": "python",
   "nbconvert_exporter": "python",
   "pygments_lexer": "ipython3",
   "version": "3.11.5"
  }
 },
 "nbformat": 4,
 "nbformat_minor": 4
}
